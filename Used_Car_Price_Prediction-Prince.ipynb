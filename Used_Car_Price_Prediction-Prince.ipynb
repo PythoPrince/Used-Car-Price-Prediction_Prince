{
 "cells": [
  {
   "cell_type": "markdown",
   "id": "fd2d2420-107c-42da-a875-4d9870e0893d",
   "metadata": {},
   "source": [
    "# Used Car Price Prediction"
   ]
  },
  {
   "cell_type": "code",
   "execution_count": 1,
   "id": "8a932ce1-61db-41de-82fc-dcf06889bc8b",
   "metadata": {
    "tags": []
   },
   "outputs": [],
   "source": [
    "# Downloading Nessassary Libraries\n",
    "# !pip install pandas\n",
    "# !pip install numpy\n",
    "# !pip install matplotlib\n",
    "# !pip install scikit-learn\n",
    "# !pip install seaborn"
   ]
  },
  {
   "cell_type": "code",
   "execution_count": 2,
   "id": "5afeb55c-f70e-4d2c-9de6-122d32ee1983",
   "metadata": {
    "tags": []
   },
   "outputs": [],
   "source": [
    "# Importing Libraries\n",
    "import pandas as pd\n",
    "import numpy as np\n",
    "\n",
    "# VIsualization Libraries\n",
    "import matplotlib.pyplot as plt\n",
    "%matplotlib inline\n",
    "import seaborn as sns\n",
    "\n",
    "# Ignore all warnings\n",
    "import warnings\n",
    "warnings.filterwarnings('ignore')"
   ]
  },
  {
   "cell_type": "markdown",
   "id": "7d446d67-d05f-4caf-bb68-aafd634de66a",
   "metadata": {},
   "source": [
    "###"
   ]
  },
  {
   "cell_type": "markdown",
   "id": "c651ddc2-720a-4abe-b5b1-11f58542caea",
   "metadata": {},
   "source": [
    "## Data Preprocessing"
   ]
  },
  {
   "cell_type": "markdown",
   "id": "7136eec5-20e3-43b9-8dce-8cf766d42b49",
   "metadata": {},
   "source": [
    "### Loading Dataset"
   ]
  },
  {
   "cell_type": "code",
   "execution_count": 3,
   "id": "76165ea9-e7e2-4056-b899-1b16051932d7",
   "metadata": {
    "tags": []
   },
   "outputs": [],
   "source": [
    "df = pd.read_csv(\"used_car_dataset.csv\")"
   ]
  },
  {
   "cell_type": "code",
   "execution_count": 4,
   "id": "a0ed9dc7-1a38-47a5-8ab4-307c8965e36d",
   "metadata": {
    "tags": []
   },
   "outputs": [
    {
     "data": {
      "text/html": [
       "<div>\n",
       "<style scoped>\n",
       "    .dataframe tbody tr th:only-of-type {\n",
       "        vertical-align: middle;\n",
       "    }\n",
       "\n",
       "    .dataframe tbody tr th {\n",
       "        vertical-align: top;\n",
       "    }\n",
       "\n",
       "    .dataframe thead th {\n",
       "        text-align: right;\n",
       "    }\n",
       "</style>\n",
       "<table border=\"1\" class=\"dataframe\">\n",
       "  <thead>\n",
       "    <tr style=\"text-align: right;\">\n",
       "      <th></th>\n",
       "      <th>car_name</th>\n",
       "      <th>car_price_in_rupees</th>\n",
       "      <th>kms_driven</th>\n",
       "      <th>fuel_type</th>\n",
       "      <th>city</th>\n",
       "      <th>year_of_manufacture</th>\n",
       "    </tr>\n",
       "  </thead>\n",
       "  <tbody>\n",
       "    <tr>\n",
       "      <th>0</th>\n",
       "      <td>Hyundai Grand i10 Magna 1.2 Kappa VTVT [2017-2...</td>\n",
       "      <td>₹ 4.45 Lakh</td>\n",
       "      <td>22,402 km</td>\n",
       "      <td>Petrol</td>\n",
       "      <td>Mumbai</td>\n",
       "      <td>2016</td>\n",
       "    </tr>\n",
       "    <tr>\n",
       "      <th>1</th>\n",
       "      <td>Maruti Suzuki Alto 800 Lxi</td>\n",
       "      <td>₹ 2.93 Lakh</td>\n",
       "      <td>10,344 km</td>\n",
       "      <td>Petrol</td>\n",
       "      <td>Kolkata</td>\n",
       "      <td>2019</td>\n",
       "    </tr>\n",
       "    <tr>\n",
       "      <th>2</th>\n",
       "      <td>Tata Safari XZ Plus New</td>\n",
       "      <td>₹ 22.49 Lakh</td>\n",
       "      <td>12,999 km</td>\n",
       "      <td>Diesel</td>\n",
       "      <td>Bangalore</td>\n",
       "      <td>2021</td>\n",
       "    </tr>\n",
       "    <tr>\n",
       "      <th>3</th>\n",
       "      <td>Maruti Suzuki Ciaz ZXI+</td>\n",
       "      <td>₹ 6.95 Lakh</td>\n",
       "      <td>45,000 km</td>\n",
       "      <td>Petrol</td>\n",
       "      <td>Thane</td>\n",
       "      <td>2016</td>\n",
       "    </tr>\n",
       "    <tr>\n",
       "      <th>4</th>\n",
       "      <td>Jeep Compass Sport Plus 1.4 Petrol [2019-2020]</td>\n",
       "      <td>₹ 12 Lakh</td>\n",
       "      <td>11,193 km</td>\n",
       "      <td>Petrol</td>\n",
       "      <td>Kolkata</td>\n",
       "      <td>2019</td>\n",
       "    </tr>\n",
       "  </tbody>\n",
       "</table>\n",
       "</div>"
      ],
      "text/plain": [
       "                                            car_name car_price_in_rupees  \\\n",
       "0  Hyundai Grand i10 Magna 1.2 Kappa VTVT [2017-2...         ₹ 4.45 Lakh   \n",
       "1                         Maruti Suzuki Alto 800 Lxi         ₹ 2.93 Lakh   \n",
       "2                            Tata Safari XZ Plus New        ₹ 22.49 Lakh   \n",
       "3                            Maruti Suzuki Ciaz ZXI+         ₹ 6.95 Lakh   \n",
       "4     Jeep Compass Sport Plus 1.4 Petrol [2019-2020]           ₹ 12 Lakh   \n",
       "\n",
       "  kms_driven fuel_type       city  year_of_manufacture  \n",
       "0  22,402 km    Petrol     Mumbai                 2016  \n",
       "1  10,344 km    Petrol    Kolkata                 2019  \n",
       "2  12,999 km    Diesel  Bangalore                 2021  \n",
       "3  45,000 km    Petrol      Thane                 2016  \n",
       "4  11,193 km    Petrol    Kolkata                 2019  "
      ]
     },
     "execution_count": 4,
     "metadata": {},
     "output_type": "execute_result"
    }
   ],
   "source": [
    "df.head()"
   ]
  },
  {
   "cell_type": "code",
   "execution_count": 5,
   "id": "b7fd0b23-6c76-4914-bd44-27cba7727f78",
   "metadata": {
    "tags": []
   },
   "outputs": [
    {
     "name": "stdout",
     "output_type": "stream",
     "text": [
      "<class 'pandas.core.frame.DataFrame'>\n",
      "RangeIndex: 2105 entries, 0 to 2104\n",
      "Data columns (total 6 columns):\n",
      " #   Column               Non-Null Count  Dtype \n",
      "---  ------               --------------  ----- \n",
      " 0   car_name             2105 non-null   object\n",
      " 1   car_price_in_rupees  2105 non-null   object\n",
      " 2   kms_driven           2105 non-null   object\n",
      " 3   fuel_type            2105 non-null   object\n",
      " 4   city                 2105 non-null   object\n",
      " 5   year_of_manufacture  2105 non-null   int64 \n",
      "dtypes: int64(1), object(5)\n",
      "memory usage: 98.8+ KB\n"
     ]
    }
   ],
   "source": [
    "df.info()"
   ]
  },
  {
   "cell_type": "code",
   "execution_count": 6,
   "id": "b2fa95f4-671a-4dd3-bdca-e92db0470c6b",
   "metadata": {
    "tags": []
   },
   "outputs": [
    {
     "name": "stdout",
     "output_type": "stream",
     "text": [
      "Number of rows :  2105\n",
      "Number of columns :  6\n"
     ]
    }
   ],
   "source": [
    "# Counting, number of rows and columns\n",
    "print(\"Number of rows : \",df.shape[0])\n",
    "print(\"Number of columns : \",df.shape[1])"
   ]
  },
  {
   "cell_type": "markdown",
   "id": "2d377dab-133a-4551-81d3-eb426e3cea18",
   "metadata": {},
   "source": [
    "###"
   ]
  },
  {
   "cell_type": "markdown",
   "id": "b5394de5-f542-41a5-9c18-29d83b16c3a3",
   "metadata": {},
   "source": [
    "### Handling Missing Values"
   ]
  },
  {
   "cell_type": "code",
   "execution_count": 7,
   "id": "60c212a8-f62a-4330-babd-73a455b97b41",
   "metadata": {
    "tags": []
   },
   "outputs": [
    {
     "name": "stdout",
     "output_type": "stream",
     "text": [
      "car_name               0\n",
      "car_price_in_rupees    0\n",
      "kms_driven             0\n",
      "fuel_type              0\n",
      "city                   0\n",
      "year_of_manufacture    0\n",
      "dtype: int64\n"
     ]
    }
   ],
   "source": [
    "# Counting Missing/Null Values \n",
    "Missing_Value = df.isnull().sum()\n",
    "print(Missing_Value)"
   ]
  },
  {
   "cell_type": "code",
   "execution_count": 8,
   "id": "7f42f023-c1dd-41cc-bd99-1da61635f3cc",
   "metadata": {
    "tags": []
   },
   "outputs": [
    {
     "name": "stdout",
     "output_type": "stream",
     "text": [
      "Number of duplicated rows are = 92\n"
     ]
    }
   ],
   "source": [
    "# Counting Duplicate Values\n",
    "Duplicate_Value = df.duplicated().sum()\n",
    "print(f'Number of duplicated rows are = {Duplicate_Value}')"
   ]
  },
  {
   "cell_type": "code",
   "execution_count": 9,
   "id": "5f731808-7ec2-4933-8b2c-6e4b5c41bd34",
   "metadata": {
    "tags": []
   },
   "outputs": [
    {
     "name": "stdout",
     "output_type": "stream",
     "text": [
      "(2013, 6)\n",
      "Number of Duplicate values are = 0\n"
     ]
    }
   ],
   "source": [
    "df = df.drop_duplicates()\n",
    "\n",
    "# Checking Again\n",
    "print(df.shape)\n",
    "print(\"Number of Duplicate values are =\" ,df.duplicated().sum())"
   ]
  },
  {
   "cell_type": "markdown",
   "id": "12446c6d-203f-42b1-ac9d-9f9152a7e5b9",
   "metadata": {},
   "source": [
    "###"
   ]
  },
  {
   "cell_type": "markdown",
   "id": "f6c880aa-b5c4-46b3-8c2a-bb84e2b7d2ca",
   "metadata": {},
   "source": [
    "### Data Cleaning for kms_driven"
   ]
  },
  {
   "cell_type": "code",
   "execution_count": 10,
   "id": "9a0d739d-d6e5-43b1-8822-7c34dc943652",
   "metadata": {},
   "outputs": [],
   "source": [
    "import re # It Provides support for working with regular expressions\n",
    "\n",
    "# Function to convert strings to integers\n",
    "def preprocess_string(s):\n",
    "    s = re.sub(r'[^\\d.]', '',s)\n",
    "    \n",
    "    return float(s)\n",
    "               "
   ]
  },
  {
   "cell_type": "code",
   "execution_count": 11,
   "id": "9da5397e-647c-49c8-86a9-4c324e2c5dab",
   "metadata": {
    "tags": []
   },
   "outputs": [],
   "source": [
    "# Now preprocess \"car_price_in_rupees\" column\n",
    "\n",
    "df['kms_driven'] = df['kms_driven'].apply(preprocess_string).astype(int)\n",
    "\n",
    "\n",
    "# Now preprocess \"car_price_in_rupees\" column\n",
    "\n",
    "df['car_price_in_rupees'] = df['car_price_in_rupees'].apply(preprocess_string)\n"
   ]
  },
  {
   "cell_type": "code",
   "execution_count": 12,
   "id": "edaa8a82-31dd-4233-961a-fe999bbc491c",
   "metadata": {
    "tags": []
   },
   "outputs": [
    {
     "name": "stdout",
     "output_type": "stream",
     "text": [
      "<class 'pandas.core.frame.DataFrame'>\n",
      "Index: 2013 entries, 0 to 2104\n",
      "Data columns (total 6 columns):\n",
      " #   Column               Non-Null Count  Dtype  \n",
      "---  ------               --------------  -----  \n",
      " 0   car_name             2013 non-null   object \n",
      " 1   car_price_in_rupees  2013 non-null   float64\n",
      " 2   kms_driven           2013 non-null   int64  \n",
      " 3   fuel_type            2013 non-null   object \n",
      " 4   city                 2013 non-null   object \n",
      " 5   year_of_manufacture  2013 non-null   int64  \n",
      "dtypes: float64(1), int64(2), object(3)\n",
      "memory usage: 110.1+ KB\n"
     ]
    }
   ],
   "source": [
    "df.info()"
   ]
  },
  {
   "cell_type": "markdown",
   "id": "cf1ebb51-465e-4b67-828d-d32238797439",
   "metadata": {},
   "source": [
    "- #### Removing Outliers"
   ]
  },
  {
   "cell_type": "code",
   "execution_count": 13,
   "id": "5aa28bd1-f42c-47d6-a645-26fe7c852044",
   "metadata": {},
   "outputs": [
    {
     "data": {
      "image/png": "[encoded data removed]",
      "text/plain": [
       "<Figure size 640x480 with 1 Axes>"
      ]
     },
     "metadata": {},
     "output_type": "display_data"
    }
   ],
   "source": [
    "# Visualizing Data\n",
    "plt.boxplot(df['kms_driven'])\n",
    "plt.title('Box Plot of kms_driven')\n",
    "plt.show()"
   ]
  },
  {
   "cell_type": "code",
   "execution_count": 14,
   "id": "a5a8b5e0-6854-40ae-86e3-30c7e49b9d43",
   "metadata": {},
   "outputs": [],
   "source": [
    "# Identifing Outliers using IQR\n",
    "Q1 = df['kms_driven'].quantile(0.25)\n",
    "Q3 = df['kms_driven'].quantile(0.75)\n",
    "IQR = Q3 - Q1\n",
    "\n",
    "# Using IQR to Filter Outliers\n",
    "df_filtered = df[(df['kms_driven'] >= Q1 - 1.5 * IQR) & (df['kms_driven'] <= Q3 + 1.5 * IQR)]\n",
    "\n",
    "df = df_filtered\n",
    "\n"
   ]
  },
  {
   "cell_type": "code",
   "execution_count": 15,
   "id": "2997ea67-bf1a-4ec6-9322-7e8478733a94",
   "metadata": {},
   "outputs": [
    {
     "data": {
      "image/png": "[encoded data removed]",
      "text/plain": [
       "<Figure size 640x480 with 1 Axes>"
      ]
     },
     "metadata": {},
     "output_type": "display_data"
    }
   ],
   "source": [
    "# Visualizing Data After Removing Outliers\n",
    "plt.boxplot(df['kms_driven'])\n",
    "plt.title('kms_driven (After Removing Outliers)')\n",
    "plt.show()"
   ]
  },
  {
   "cell_type": "code",
   "execution_count": 16,
   "id": "ad94cbdf-9f77-4e62-b8a2-27d59982e562",
   "metadata": {
    "scrolled": true,
    "tags": []
   },
   "outputs": [
    {
     "data": {
      "text/html": [
       "<div>\n",
       "<style scoped>\n",
       "    .dataframe tbody tr th:only-of-type {\n",
       "        vertical-align: middle;\n",
       "    }\n",
       "\n",
       "    .dataframe tbody tr th {\n",
       "        vertical-align: top;\n",
       "    }\n",
       "\n",
       "    .dataframe thead th {\n",
       "        text-align: right;\n",
       "    }\n",
       "</style>\n",
       "<table border=\"1\" class=\"dataframe\">\n",
       "  <thead>\n",
       "    <tr style=\"text-align: right;\">\n",
       "      <th></th>\n",
       "      <th>car_name</th>\n",
       "      <th>car_price_in_rupees</th>\n",
       "      <th>kms_driven</th>\n",
       "      <th>fuel_type</th>\n",
       "      <th>city</th>\n",
       "      <th>year_of_manufacture</th>\n",
       "    </tr>\n",
       "  </thead>\n",
       "  <tbody>\n",
       "    <tr>\n",
       "      <th>0</th>\n",
       "      <td>Hyundai Grand i10 Magna 1.2 Kappa VTVT [2017-2...</td>\n",
       "      <td>4.45</td>\n",
       "      <td>22402</td>\n",
       "      <td>Petrol</td>\n",
       "      <td>Mumbai</td>\n",
       "      <td>2016</td>\n",
       "    </tr>\n",
       "    <tr>\n",
       "      <th>1</th>\n",
       "      <td>Maruti Suzuki Alto 800 Lxi</td>\n",
       "      <td>2.93</td>\n",
       "      <td>10344</td>\n",
       "      <td>Petrol</td>\n",
       "      <td>Kolkata</td>\n",
       "      <td>2019</td>\n",
       "    </tr>\n",
       "    <tr>\n",
       "      <th>2</th>\n",
       "      <td>Tata Safari XZ Plus New</td>\n",
       "      <td>22.49</td>\n",
       "      <td>12999</td>\n",
       "      <td>Diesel</td>\n",
       "      <td>Bangalore</td>\n",
       "      <td>2021</td>\n",
       "    </tr>\n",
       "    <tr>\n",
       "      <th>3</th>\n",
       "      <td>Maruti Suzuki Ciaz ZXI+</td>\n",
       "      <td>6.95</td>\n",
       "      <td>45000</td>\n",
       "      <td>Petrol</td>\n",
       "      <td>Thane</td>\n",
       "      <td>2016</td>\n",
       "    </tr>\n",
       "    <tr>\n",
       "      <th>4</th>\n",
       "      <td>Jeep Compass Sport Plus 1.4 Petrol [2019-2020]</td>\n",
       "      <td>12.00</td>\n",
       "      <td>11193</td>\n",
       "      <td>Petrol</td>\n",
       "      <td>Kolkata</td>\n",
       "      <td>2019</td>\n",
       "    </tr>\n",
       "  </tbody>\n",
       "</table>\n",
       "</div>"
      ],
      "text/plain": [
       "                                            car_name  car_price_in_rupees  \\\n",
       "0  Hyundai Grand i10 Magna 1.2 Kappa VTVT [2017-2...                 4.45   \n",
       "1                         Maruti Suzuki Alto 800 Lxi                 2.93   \n",
       "2                            Tata Safari XZ Plus New                22.49   \n",
       "3                            Maruti Suzuki Ciaz ZXI+                 6.95   \n",
       "4     Jeep Compass Sport Plus 1.4 Petrol [2019-2020]                12.00   \n",
       "\n",
       "   kms_driven fuel_type       city  year_of_manufacture  \n",
       "0       22402    Petrol     Mumbai                 2016  \n",
       "1       10344    Petrol    Kolkata                 2019  \n",
       "2       12999    Diesel  Bangalore                 2021  \n",
       "3       45000    Petrol      Thane                 2016  \n",
       "4       11193    Petrol    Kolkata                 2019  "
      ]
     },
     "execution_count": 16,
     "metadata": {},
     "output_type": "execute_result"
    }
   ],
   "source": [
    "df.head()"
   ]
  },
  {
   "cell_type": "markdown",
   "id": "e6a74d82-c808-4ee9-974b-e71ff21d7c02",
   "metadata": {},
   "source": [
    "###"
   ]
  },
  {
   "cell_type": "markdown",
   "id": "59b84a1e-acd9-4d1f-8bb6-d9d65b984b7d",
   "metadata": {},
   "source": [
    "### Data Cleaning for fuel_type"
   ]
  },
  {
   "cell_type": "code",
   "execution_count": 17,
   "id": "19e713e0-d852-4aa9-b35c-688442d7a574",
   "metadata": {},
   "outputs": [
    {
     "data": {
      "text/plain": [
       "array(['Petrol', 'Diesel', 'Electric', 'CNG', 'Petrol + 1', 'Diesel + 1',\n",
       "       'Hybrid', 'LPG'], dtype=object)"
      ]
     },
     "execution_count": 17,
     "metadata": {},
     "output_type": "execute_result"
    }
   ],
   "source": [
    "df.fuel_type.unique()"
   ]
  },
  {
   "cell_type": "code",
   "execution_count": 18,
   "id": "2d3b5140-6af7-41a3-be38-9895f91c1b57",
   "metadata": {},
   "outputs": [
    {
     "data": {
      "text/plain": [
       "count       1975\n",
       "unique         8\n",
       "top       Petrol\n",
       "freq        1276\n",
       "Name: fuel_type, dtype: object"
      ]
     },
     "execution_count": 18,
     "metadata": {},
     "output_type": "execute_result"
    }
   ],
   "source": [
    "df['fuel_type'].describe()"
   ]
  },
  {
   "cell_type": "code",
   "execution_count": 19,
   "id": "08cbc715-6c04-4c89-86af-ee10062a799c",
   "metadata": {},
   "outputs": [
    {
     "data": {
      "text/plain": [
       "<Axes: xlabel='fuel_type', ylabel='Count'>"
      ]
     },
     "execution_count": 19,
     "metadata": {},
     "output_type": "execute_result"
    },
    {
     "data": {
      "image/png": "[encoded data removed]",
      "text/plain": [
       "<Figure size 640x480 with 1 Axes>"
      ]
     },
     "metadata": {},
     "output_type": "display_data"
    }
   ],
   "source": [
    "sns.histplot(df['fuel_type'])"
   ]
  },
  {
   "cell_type": "code",
   "execution_count": 20,
   "id": "55d18834-1df1-497d-ad4f-102fda6da532",
   "metadata": {},
   "outputs": [],
   "source": [
    "df.drop(columns=['fuel_type'], inplace=True)"
   ]
  },
  {
   "cell_type": "code",
   "execution_count": 21,
   "id": "1ea6ba85-a2d2-47e6-ba66-9fb3f33ee33b",
   "metadata": {},
   "outputs": [
    {
     "data": {
      "text/html": [
       "<div>\n",
       "<style scoped>\n",
       "    .dataframe tbody tr th:only-of-type {\n",
       "        vertical-align: middle;\n",
       "    }\n",
       "\n",
       "    .dataframe tbody tr th {\n",
       "        vertical-align: top;\n",
       "    }\n",
       "\n",
       "    .dataframe thead th {\n",
       "        text-align: right;\n",
       "    }\n",
       "</style>\n",
       "<table border=\"1\" class=\"dataframe\">\n",
       "  <thead>\n",
       "    <tr style=\"text-align: right;\">\n",
       "      <th></th>\n",
       "      <th>car_name</th>\n",
       "      <th>car_price_in_rupees</th>\n",
       "      <th>kms_driven</th>\n",
       "      <th>city</th>\n",
       "      <th>year_of_manufacture</th>\n",
       "    </tr>\n",
       "  </thead>\n",
       "  <tbody>\n",
       "    <tr>\n",
       "      <th>0</th>\n",
       "      <td>Hyundai Grand i10 Magna 1.2 Kappa VTVT [2017-2...</td>\n",
       "      <td>4.45</td>\n",
       "      <td>22402</td>\n",
       "      <td>Mumbai</td>\n",
       "      <td>2016</td>\n",
       "    </tr>\n",
       "    <tr>\n",
       "      <th>1</th>\n",
       "      <td>Maruti Suzuki Alto 800 Lxi</td>\n",
       "      <td>2.93</td>\n",
       "      <td>10344</td>\n",
       "      <td>Kolkata</td>\n",
       "      <td>2019</td>\n",
       "    </tr>\n",
       "    <tr>\n",
       "      <th>2</th>\n",
       "      <td>Tata Safari XZ Plus New</td>\n",
       "      <td>22.49</td>\n",
       "      <td>12999</td>\n",
       "      <td>Bangalore</td>\n",
       "      <td>2021</td>\n",
       "    </tr>\n",
       "    <tr>\n",
       "      <th>3</th>\n",
       "      <td>Maruti Suzuki Ciaz ZXI+</td>\n",
       "      <td>6.95</td>\n",
       "      <td>45000</td>\n",
       "      <td>Thane</td>\n",
       "      <td>2016</td>\n",
       "    </tr>\n",
       "    <tr>\n",
       "      <th>4</th>\n",
       "      <td>Jeep Compass Sport Plus 1.4 Petrol [2019-2020]</td>\n",
       "      <td>12.00</td>\n",
       "      <td>11193</td>\n",
       "      <td>Kolkata</td>\n",
       "      <td>2019</td>\n",
       "    </tr>\n",
       "  </tbody>\n",
       "</table>\n",
       "</div>"
      ],
      "text/plain": [
       "                                            car_name  car_price_in_rupees  \\\n",
       "0  Hyundai Grand i10 Magna 1.2 Kappa VTVT [2017-2...                 4.45   \n",
       "1                         Maruti Suzuki Alto 800 Lxi                 2.93   \n",
       "2                            Tata Safari XZ Plus New                22.49   \n",
       "3                            Maruti Suzuki Ciaz ZXI+                 6.95   \n",
       "4     Jeep Compass Sport Plus 1.4 Petrol [2019-2020]                12.00   \n",
       "\n",
       "   kms_driven       city  year_of_manufacture  \n",
       "0       22402     Mumbai                 2016  \n",
       "1       10344    Kolkata                 2019  \n",
       "2       12999  Bangalore                 2021  \n",
       "3       45000      Thane                 2016  \n",
       "4       11193    Kolkata                 2019  "
      ]
     },
     "execution_count": 21,
     "metadata": {},
     "output_type": "execute_result"
    }
   ],
   "source": [
    "df.head()"
   ]
  },
  {
   "cell_type": "code",
   "execution_count": 22,
   "id": "62415f70-20e8-4e9e-8243-6555aadf2797",
   "metadata": {},
   "outputs": [
    {
     "data": {
      "text/plain": [
       "(1975, 5)"
      ]
     },
     "execution_count": 22,
     "metadata": {},
     "output_type": "execute_result"
    }
   ],
   "source": [
    "df.shape"
   ]
  },
  {
   "cell_type": "markdown",
   "id": "01002a86-472a-46da-baf8-c1c032612469",
   "metadata": {},
   "source": [
    "###"
   ]
  },
  {
   "cell_type": "markdown",
   "id": "7cd36cbb-518a-41f6-be42-3041b2fa2362",
   "metadata": {},
   "source": [
    "### Data Cleaning for year_of_manufacture"
   ]
  },
  {
   "cell_type": "code",
   "execution_count": 23,
   "id": "57949925-4bcd-41ca-817d-218470c1104b",
   "metadata": {},
   "outputs": [],
   "source": [
    "df['age_of_car'] = df.apply(lambda row: 2024 - row[\"year_of_manufacture\"], axis=1)"
   ]
  },
  {
   "cell_type": "code",
   "execution_count": 24,
   "id": "e73a5eed-d4af-4e16-9447-d0c3b48ec5df",
   "metadata": {},
   "outputs": [],
   "source": [
    "df.drop(columns=['year_of_manufacture'], inplace=True)"
   ]
  },
  {
   "cell_type": "code",
   "execution_count": 25,
   "id": "1aa3736e-b7ce-401c-93a4-b0496eacb0f2",
   "metadata": {},
   "outputs": [
    {
     "data": {
      "text/html": [
       "<div>\n",
       "<style scoped>\n",
       "    .dataframe tbody tr th:only-of-type {\n",
       "        vertical-align: middle;\n",
       "    }\n",
       "\n",
       "    .dataframe tbody tr th {\n",
       "        vertical-align: top;\n",
       "    }\n",
       "\n",
       "    .dataframe thead th {\n",
       "        text-align: right;\n",
       "    }\n",
       "</style>\n",
       "<table border=\"1\" class=\"dataframe\">\n",
       "  <thead>\n",
       "    <tr style=\"text-align: right;\">\n",
       "      <th></th>\n",
       "      <th>car_name</th>\n",
       "      <th>car_price_in_rupees</th>\n",
       "      <th>kms_driven</th>\n",
       "      <th>city</th>\n",
       "      <th>age_of_car</th>\n",
       "    </tr>\n",
       "  </thead>\n",
       "  <tbody>\n",
       "    <tr>\n",
       "      <th>0</th>\n",
       "      <td>Hyundai Grand i10 Magna 1.2 Kappa VTVT [2017-2...</td>\n",
       "      <td>4.45</td>\n",
       "      <td>22402</td>\n",
       "      <td>Mumbai</td>\n",
       "      <td>8</td>\n",
       "    </tr>\n",
       "    <tr>\n",
       "      <th>1</th>\n",
       "      <td>Maruti Suzuki Alto 800 Lxi</td>\n",
       "      <td>2.93</td>\n",
       "      <td>10344</td>\n",
       "      <td>Kolkata</td>\n",
       "      <td>5</td>\n",
       "    </tr>\n",
       "    <tr>\n",
       "      <th>2</th>\n",
       "      <td>Tata Safari XZ Plus New</td>\n",
       "      <td>22.49</td>\n",
       "      <td>12999</td>\n",
       "      <td>Bangalore</td>\n",
       "      <td>3</td>\n",
       "    </tr>\n",
       "    <tr>\n",
       "      <th>3</th>\n",
       "      <td>Maruti Suzuki Ciaz ZXI+</td>\n",
       "      <td>6.95</td>\n",
       "      <td>45000</td>\n",
       "      <td>Thane</td>\n",
       "      <td>8</td>\n",
       "    </tr>\n",
       "    <tr>\n",
       "      <th>4</th>\n",
       "      <td>Jeep Compass Sport Plus 1.4 Petrol [2019-2020]</td>\n",
       "      <td>12.00</td>\n",
       "      <td>11193</td>\n",
       "      <td>Kolkata</td>\n",
       "      <td>5</td>\n",
       "    </tr>\n",
       "  </tbody>\n",
       "</table>\n",
       "</div>"
      ],
      "text/plain": [
       "                                            car_name  car_price_in_rupees  \\\n",
       "0  Hyundai Grand i10 Magna 1.2 Kappa VTVT [2017-2...                 4.45   \n",
       "1                         Maruti Suzuki Alto 800 Lxi                 2.93   \n",
       "2                            Tata Safari XZ Plus New                22.49   \n",
       "3                            Maruti Suzuki Ciaz ZXI+                 6.95   \n",
       "4     Jeep Compass Sport Plus 1.4 Petrol [2019-2020]                12.00   \n",
       "\n",
       "   kms_driven       city  age_of_car  \n",
       "0       22402     Mumbai           8  \n",
       "1       10344    Kolkata           5  \n",
       "2       12999  Bangalore           3  \n",
       "3       45000      Thane           8  \n",
       "4       11193    Kolkata           5  "
      ]
     },
     "execution_count": 25,
     "metadata": {},
     "output_type": "execute_result"
    }
   ],
   "source": [
    "df.head()"
   ]
  },
  {
   "cell_type": "code",
   "execution_count": 26,
   "id": "7732e112-2821-4a0b-9d93-f1fc30074ad8",
   "metadata": {},
   "outputs": [
    {
     "data": {
      "image/png": "[encoded data removed]",
      "text/plain": [
       "<Figure size 640x480 with 1 Axes>"
      ]
     },
     "metadata": {},
     "output_type": "display_data"
    }
   ],
   "source": [
    "# Visualizing Data\n",
    "plt.boxplot(df['age_of_car'])\n",
    "plt.title('Box Plot of age')\n",
    "plt.show()"
   ]
  },
  {
   "cell_type": "code",
   "execution_count": 27,
   "id": "fa5f5c72-8d2a-4caa-945d-69ed49834918",
   "metadata": {},
   "outputs": [],
   "source": [
    "# Identifing Outliers using IQR\n",
    "Q1 = df['age_of_car'].quantile(0.25)\n",
    "Q3 = df['age_of_car'].quantile(0.75)\n",
    "IQR = Q3 - Q1\n",
    "\n",
    "# Using IQR to Filter Outliers\n",
    "df_filtered = df[(df['age_of_car'] >= Q1 - 1.5 * IQR) & (df['age_of_car'] <= Q3 + 1.5 * IQR)]\n",
    "\n",
    "df = df_filtered"
   ]
  },
  {
   "cell_type": "code",
   "execution_count": 28,
   "id": "ab7c47f6-058b-4558-b47d-a080ba8f6b03",
   "metadata": {},
   "outputs": [
    {
     "data": {
      "image/png": "[encoded data removed]",
      "text/plain": [
       "<Figure size 640x480 with 1 Axes>"
      ]
     },
     "metadata": {},
     "output_type": "display_data"
    }
   ],
   "source": [
    "# Visualizing Data After Removing Outliers\n",
    "plt.boxplot(df['age_of_car'])\n",
    "plt.title('Box Plot of age (After Removing Outliers)')\n",
    "plt.show()"
   ]
  },
  {
   "cell_type": "code",
   "execution_count": 29,
   "id": "729e7da2-3503-42a3-920f-848c7bb4bfed",
   "metadata": {},
   "outputs": [
    {
     "data": {
      "text/plain": [
       "(1964, 5)"
      ]
     },
     "execution_count": 29,
     "metadata": {},
     "output_type": "execute_result"
    }
   ],
   "source": [
    "df.shape"
   ]
  },
  {
   "cell_type": "markdown",
   "id": "26b310f2-f974-4ea8-bce8-f5f9453bc499",
   "metadata": {},
   "source": [
    "###"
   ]
  },
  {
   "cell_type": "markdown",
   "id": "438efa2d-5919-47db-88cb-c36aa271baf0",
   "metadata": {},
   "source": [
    "### Data Cleaning for car_name"
   ]
  },
  {
   "cell_type": "code",
   "execution_count": 30,
   "id": "01119fdd-fdd6-4045-b4a7-37d900027feb",
   "metadata": {},
   "outputs": [],
   "source": [
    "df.insert(1, \"car_brand\", df[\"car_name\"].str.split(\" \").str[0])\n",
    "\n",
    "df.car_brand.unique()\n",
    "\n",
    "# List of car brands based on subjective ranking\n",
    "car_brands = ['Mercedes-Benz', 'BMW', 'Audi', 'Toyota', 'Volkswagen', 'Porsche', 'Volvo', 'Jaguar', 'Land', \n",
    "              'Ford', 'Honda', 'Chevrolet', 'Hyundai', 'Kia', 'Nissan', 'Renault', 'Skoda', 'MINI', 'MG', 'Mahindra',\n",
    "              'Tata', 'Isuzu', 'Jeep', 'Datsun', 'Fiat', 'Citroen', 'Bentley','Maruti']\n",
    "\n",
    "# Loop through the mapping and perform replacements\n",
    "for brand_name in car_brands:\n",
    "    df.loc[df[\"car_brand\"] == brand_name, \"car_brand\"] = ((car_brands.index(brand_name) + 1) / len(df)) * 100\n",
    "\n",
    "df.rename(columns={'car_brand': 'car_brand_score'}, inplace=True)\n",
    "\n",
    "df.drop(columns=['car_name'], inplace=True)"
   ]
  },
  {
   "cell_type": "code",
   "execution_count": 31,
   "id": "001935ab-d40e-410a-ab58-f129b90d9842",
   "metadata": {
    "scrolled": true
   },
   "outputs": [
    {
     "data": {
      "text/html": [
       "<div>\n",
       "<style scoped>\n",
       "    .dataframe tbody tr th:only-of-type {\n",
       "        vertical-align: middle;\n",
       "    }\n",
       "\n",
       "    .dataframe tbody tr th {\n",
       "        vertical-align: top;\n",
       "    }\n",
       "\n",
       "    .dataframe thead th {\n",
       "        text-align: right;\n",
       "    }\n",
       "</style>\n",
       "<table border=\"1\" class=\"dataframe\">\n",
       "  <thead>\n",
       "    <tr style=\"text-align: right;\">\n",
       "      <th></th>\n",
       "      <th>car_brand_score</th>\n",
       "      <th>car_price_in_rupees</th>\n",
       "      <th>kms_driven</th>\n",
       "      <th>city</th>\n",
       "      <th>age_of_car</th>\n",
       "    </tr>\n",
       "  </thead>\n",
       "  <tbody>\n",
       "    <tr>\n",
       "      <th>0</th>\n",
       "      <td>0.661914</td>\n",
       "      <td>4.45</td>\n",
       "      <td>22402</td>\n",
       "      <td>Mumbai</td>\n",
       "      <td>8</td>\n",
       "    </tr>\n",
       "    <tr>\n",
       "      <th>1</th>\n",
       "      <td>1.425662</td>\n",
       "      <td>2.93</td>\n",
       "      <td>10344</td>\n",
       "      <td>Kolkata</td>\n",
       "      <td>5</td>\n",
       "    </tr>\n",
       "    <tr>\n",
       "      <th>2</th>\n",
       "      <td>1.069246</td>\n",
       "      <td>22.49</td>\n",
       "      <td>12999</td>\n",
       "      <td>Bangalore</td>\n",
       "      <td>3</td>\n",
       "    </tr>\n",
       "    <tr>\n",
       "      <th>3</th>\n",
       "      <td>1.425662</td>\n",
       "      <td>6.95</td>\n",
       "      <td>45000</td>\n",
       "      <td>Thane</td>\n",
       "      <td>8</td>\n",
       "    </tr>\n",
       "    <tr>\n",
       "      <th>4</th>\n",
       "      <td>1.171079</td>\n",
       "      <td>12.00</td>\n",
       "      <td>11193</td>\n",
       "      <td>Kolkata</td>\n",
       "      <td>5</td>\n",
       "    </tr>\n",
       "  </tbody>\n",
       "</table>\n",
       "</div>"
      ],
      "text/plain": [
       "  car_brand_score  car_price_in_rupees  kms_driven       city  age_of_car\n",
       "0        0.661914                 4.45       22402     Mumbai           8\n",
       "1        1.425662                 2.93       10344    Kolkata           5\n",
       "2        1.069246                22.49       12999  Bangalore           3\n",
       "3        1.425662                 6.95       45000      Thane           8\n",
       "4        1.171079                12.00       11193    Kolkata           5"
      ]
     },
     "execution_count": 31,
     "metadata": {},
     "output_type": "execute_result"
    }
   ],
   "source": [
    "df.head()"
   ]
  },
  {
   "cell_type": "markdown",
   "id": "a023b5c4-57ab-48c0-b457-5915ee522cd1",
   "metadata": {},
   "source": [
    "###"
   ]
  },
  {
   "cell_type": "markdown",
   "id": "c1a82178-9ab3-4a60-a691-b0880887221f",
   "metadata": {},
   "source": [
    "### Data Cleaning for city"
   ]
  },
  {
   "cell_type": "markdown",
   "id": "16608b74-45a7-4a4c-9b5c-1a5b63597ebc",
   "metadata": {},
   "source": [
    "- ##### For now droping city column"
   ]
  },
  {
   "cell_type": "code",
   "execution_count": 32,
   "id": "0df16695-9729-49c4-9721-cbc555b2f10d",
   "metadata": {},
   "outputs": [],
   "source": [
    "df.drop(columns=['city'], inplace=True)"
   ]
  },
  {
   "cell_type": "code",
   "execution_count": 33,
   "id": "567d45b8-7117-4dde-a6e0-8a8c0ed2a0ab",
   "metadata": {
    "scrolled": true
   },
   "outputs": [
    {
     "data": {
      "text/html": [
       "<div>\n",
       "<style scoped>\n",
       "    .dataframe tbody tr th:only-of-type {\n",
       "        vertical-align: middle;\n",
       "    }\n",
       "\n",
       "    .dataframe tbody tr th {\n",
       "        vertical-align: top;\n",
       "    }\n",
       "\n",
       "    .dataframe thead th {\n",
       "        text-align: right;\n",
       "    }\n",
       "</style>\n",
       "<table border=\"1\" class=\"dataframe\">\n",
       "  <thead>\n",
       "    <tr style=\"text-align: right;\">\n",
       "      <th></th>\n",
       "      <th>car_brand_score</th>\n",
       "      <th>car_price_in_rupees</th>\n",
       "      <th>kms_driven</th>\n",
       "      <th>age_of_car</th>\n",
       "    </tr>\n",
       "  </thead>\n",
       "  <tbody>\n",
       "    <tr>\n",
       "      <th>0</th>\n",
       "      <td>0.661914</td>\n",
       "      <td>4.45</td>\n",
       "      <td>22402</td>\n",
       "      <td>8</td>\n",
       "    </tr>\n",
       "    <tr>\n",
       "      <th>1</th>\n",
       "      <td>1.425662</td>\n",
       "      <td>2.93</td>\n",
       "      <td>10344</td>\n",
       "      <td>5</td>\n",
       "    </tr>\n",
       "    <tr>\n",
       "      <th>2</th>\n",
       "      <td>1.069246</td>\n",
       "      <td>22.49</td>\n",
       "      <td>12999</td>\n",
       "      <td>3</td>\n",
       "    </tr>\n",
       "    <tr>\n",
       "      <th>3</th>\n",
       "      <td>1.425662</td>\n",
       "      <td>6.95</td>\n",
       "      <td>45000</td>\n",
       "      <td>8</td>\n",
       "    </tr>\n",
       "    <tr>\n",
       "      <th>4</th>\n",
       "      <td>1.171079</td>\n",
       "      <td>12.00</td>\n",
       "      <td>11193</td>\n",
       "      <td>5</td>\n",
       "    </tr>\n",
       "  </tbody>\n",
       "</table>\n",
       "</div>"
      ],
      "text/plain": [
       "  car_brand_score  car_price_in_rupees  kms_driven  age_of_car\n",
       "0        0.661914                 4.45       22402           8\n",
       "1        1.425662                 2.93       10344           5\n",
       "2        1.069246                22.49       12999           3\n",
       "3        1.425662                 6.95       45000           8\n",
       "4        1.171079                12.00       11193           5"
      ]
     },
     "execution_count": 33,
     "metadata": {},
     "output_type": "execute_result"
    }
   ],
   "source": [
    "df.head()"
   ]
  },
  {
   "cell_type": "markdown",
   "id": "2a187a55-b100-4e18-a5f7-df1e0aad03d0",
   "metadata": {},
   "source": [
    "###"
   ]
  },
  {
   "cell_type": "markdown",
   "id": "81ad869e-beef-4544-b67b-77da67140c23",
   "metadata": {
    "jp-MarkdownHeadingCollapsed": true
   },
   "source": [
    "## Independent And dependent features"
   ]
  },
  {
   "cell_type": "code",
   "execution_count": 34,
   "id": "976d7430-cee7-4e22-bd01-39dda77ffec9",
   "metadata": {},
   "outputs": [],
   "source": [
    "X=df.drop('car_price_in_rupees',axis=1)\n",
    "y=df['car_price_in_rupees']"
   ]
  },
  {
   "cell_type": "code",
   "execution_count": 35,
   "id": "62ce774e-01cf-489d-80e0-f3427e108eaf",
   "metadata": {},
   "outputs": [
    {
     "data": {
      "text/html": [
       "<div>\n",
       "<style scoped>\n",
       "    .dataframe tbody tr th:only-of-type {\n",
       "        vertical-align: middle;\n",
       "    }\n",
       "\n",
       "    .dataframe tbody tr th {\n",
       "        vertical-align: top;\n",
       "    }\n",
       "\n",
       "    .dataframe thead th {\n",
       "        text-align: right;\n",
       "    }\n",
       "</style>\n",
       "<table border=\"1\" class=\"dataframe\">\n",
       "  <thead>\n",
       "    <tr style=\"text-align: right;\">\n",
       "      <th></th>\n",
       "      <th>car_brand_score</th>\n",
       "      <th>kms_driven</th>\n",
       "      <th>age_of_car</th>\n",
       "    </tr>\n",
       "  </thead>\n",
       "  <tbody>\n",
       "    <tr>\n",
       "      <th>0</th>\n",
       "      <td>0.661914</td>\n",
       "      <td>22402</td>\n",
       "      <td>8</td>\n",
       "    </tr>\n",
       "    <tr>\n",
       "      <th>1</th>\n",
       "      <td>1.425662</td>\n",
       "      <td>10344</td>\n",
       "      <td>5</td>\n",
       "    </tr>\n",
       "    <tr>\n",
       "      <th>2</th>\n",
       "      <td>1.069246</td>\n",
       "      <td>12999</td>\n",
       "      <td>3</td>\n",
       "    </tr>\n",
       "    <tr>\n",
       "      <th>3</th>\n",
       "      <td>1.425662</td>\n",
       "      <td>45000</td>\n",
       "      <td>8</td>\n",
       "    </tr>\n",
       "    <tr>\n",
       "      <th>4</th>\n",
       "      <td>1.171079</td>\n",
       "      <td>11193</td>\n",
       "      <td>5</td>\n",
       "    </tr>\n",
       "  </tbody>\n",
       "</table>\n",
       "</div>"
      ],
      "text/plain": [
       "  car_brand_score  kms_driven  age_of_car\n",
       "0        0.661914       22402           8\n",
       "1        1.425662       10344           5\n",
       "2        1.069246       12999           3\n",
       "3        1.425662       45000           8\n",
       "4        1.171079       11193           5"
      ]
     },
     "execution_count": 35,
     "metadata": {},
     "output_type": "execute_result"
    }
   ],
   "source": [
    "X.head()"
   ]
  },
  {
   "cell_type": "code",
   "execution_count": 36,
   "id": "038becad-7c12-4204-b2b6-7fdbaaeb2ac4",
   "metadata": {
    "scrolled": true
   },
   "outputs": [
    {
     "data": {
      "text/plain": [
       "0     4.45\n",
       "1     2.93\n",
       "2    22.49\n",
       "3     6.95\n",
       "4    12.00\n",
       "Name: car_price_in_rupees, dtype: float64"
      ]
     },
     "execution_count": 36,
     "metadata": {},
     "output_type": "execute_result"
    }
   ],
   "source": [
    "y.head()"
   ]
  },
  {
   "cell_type": "markdown",
   "id": "8bb54383-3a7e-483e-a1c2-8229da70deae",
   "metadata": {},
   "source": [
    "###"
   ]
  },
  {
   "cell_type": "markdown",
   "id": "35960520-543c-4dcc-a1f7-90b03bf5a5fe",
   "metadata": {
    "jp-MarkdownHeadingCollapsed": true
   },
   "source": [
    "## Train Test Split"
   ]
  },
  {
   "cell_type": "code",
   "execution_count": 37,
   "id": "388cf857-b248-4fa8-844e-cb76657afd98",
   "metadata": {},
   "outputs": [],
   "source": [
    "from sklearn.model_selection import train_test_split\n",
    "X_train,X_test,y_train,y_test=train_test_split(X,y,test_size=0.3,random_state=42)"
   ]
  },
  {
   "cell_type": "code",
   "execution_count": 38,
   "id": "688bff79-02c2-4dd4-bce9-7b83e4ce1880",
   "metadata": {},
   "outputs": [
    {
     "data": {
      "text/plain": [
       "((1374, 3), (590, 3))"
      ]
     },
     "execution_count": 38,
     "metadata": {},
     "output_type": "execute_result"
    }
   ],
   "source": [
    "X_train.shape,X_test.shape"
   ]
  },
  {
   "cell_type": "code",
   "execution_count": 39,
   "id": "0e121cf2-284b-42c0-8591-215de945588c",
   "metadata": {},
   "outputs": [
    {
     "data": {
      "text/plain": [
       "((1374,), (590,))"
      ]
     },
     "execution_count": 39,
     "metadata": {},
     "output_type": "execute_result"
    }
   ],
   "source": [
    "y_train.shape,y_test.shape"
   ]
  },
  {
   "cell_type": "markdown",
   "id": "5cacfe09-328e-4a76-a93a-e7e292ee0557",
   "metadata": {},
   "source": [
    "###"
   ]
  },
  {
   "cell_type": "markdown",
   "id": "d2e258b4-bde9-4e98-990d-1e7e524a7ffc",
   "metadata": {
    "jp-MarkdownHeadingCollapsed": true
   },
   "source": [
    "## Check for correlation"
   ]
  },
  {
   "cell_type": "code",
   "execution_count": 40,
   "id": "c59580db-8d15-4244-a676-9a812a548eee",
   "metadata": {
    "scrolled": true
   },
   "outputs": [
    {
     "data": {
      "text/plain": [
       "<Axes: >"
      ]
     },
     "execution_count": 40,
     "metadata": {},
     "output_type": "execute_result"
    },
    {
     "data": {
      "image/png": "[encoded data removed]",
      "text/plain": [
       "<Figure size 1200x1000 with 2 Axes>"
      ]
     },
     "metadata": {},
     "output_type": "display_data"
    }
   ],
   "source": [
    "plt.figure(figsize=(12,10))\n",
    "corr=X_train.corr()\n",
    "sns.heatmap(corr,annot=True)"
   ]
  },
  {
   "cell_type": "markdown",
   "id": "519fc120-4c27-4cb8-be2f-51e88f6c6838",
   "metadata": {},
   "source": [
    "###"
   ]
  },
  {
   "cell_type": "markdown",
   "id": "f0989bee-22dc-4805-b05a-f95d198f52be",
   "metadata": {
    "jp-MarkdownHeadingCollapsed": true
   },
   "source": [
    "## Doing Standardization"
   ]
  },
  {
   "cell_type": "code",
   "execution_count": 41,
   "id": "3a9aaeba-18ff-408f-a1ea-a1bdf9b0b734",
   "metadata": {},
   "outputs": [],
   "source": [
    "from sklearn.preprocessing import StandardScaler\n",
    "scaler=StandardScaler()\n",
    "X_train_scaled=scaler.fit_transform(X_train)\n",
    "X_test_scaled=scaler.transform(X_test)"
   ]
  },
  {
   "cell_type": "code",
   "execution_count": 42,
   "id": "cded038d-a660-4a64-93d9-a04cdc97aae8",
   "metadata": {},
   "outputs": [
    {
     "data": {
      "text/plain": [
       "array([[-0.3548887 , -0.97399831, -0.34007262],\n",
       "       [-0.3548887 ,  0.90032946,  1.52449154],\n",
       "       [-1.38458218, -0.37140834,  2.27031721],\n",
       "       ...,\n",
       "       [-0.3548887 , -0.05954765, -0.34007262],\n",
       "       [ 1.3612671 ,  0.35403584,  0.03284021],\n",
       "       [-1.04135102,  0.94279508, -0.34007262]])"
      ]
     },
     "execution_count": 42,
     "metadata": {},
     "output_type": "execute_result"
    }
   ],
   "source": [
    "X_train_scaled"
   ]
  },
  {
   "cell_type": "markdown",
   "id": "d13e6d8d-2d28-4920-8d3d-f06f8a511369",
   "metadata": {},
   "source": [
    "- ### Box Plots To understand Effect Of Standard Scaler"
   ]
  },
  {
   "cell_type": "code",
   "execution_count": 43,
   "id": "1c19871a-0b02-4691-b7c9-ceab8d663bf6",
   "metadata": {
    "scrolled": true
   },
   "outputs": [
    {
     "data": {
      "text/plain": [
       "Text(0.5, 1.0, 'After Scaling')"
      ]
     },
     "execution_count": 43,
     "metadata": {},
     "output_type": "execute_result"
    },
    {
     "data": {
      "image/png": "[encoded data removed]",
      "text/plain": [
       "<Figure size 2000x600 with 3 Axes>"
      ]
     },
     "metadata": {},
     "output_type": "display_data"
    }
   ],
   "source": [
    "plt.subplots(figsize=(20, 6))\n",
    "plt.subplot(1, 2, 1)\n",
    "sns.boxplot(data=X_train)\n",
    "plt.title('Before Scaling')\n",
    "plt.subplot(1, 2, 2)\n",
    "sns.boxplot(data=X_train_scaled)\n",
    "plt.title('After Scaling')"
   ]
  },
  {
   "cell_type": "markdown",
   "id": "b97ed7b4-7116-411f-bbfd-07061142c16e",
   "metadata": {},
   "source": [
    "###"
   ]
  },
  {
   "cell_type": "markdown",
   "id": "41598a60-5dee-49ad-a2da-49f73d6a45a0",
   "metadata": {},
   "source": [
    "- ### Linear Regression"
   ]
  },
  {
   "cell_type": "code",
   "execution_count": 44,
   "id": "b91a0d7c-a0a6-4ead-b07d-f5cbbd5a9429",
   "metadata": {},
   "outputs": [
    {
     "name": "stdout",
     "output_type": "stream",
     "text": [
      "Mean absolute error 6.4942327936549065\n",
      "R2 Score 0.3186513631686554\n"
     ]
    },
    {
     "data": {
      "text/plain": [
       "<matplotlib.collections.PathCollection at 0x7ff8faf79960>"
      ]
     },
     "execution_count": 44,
     "metadata": {},
     "output_type": "execute_result"
    },
    {
     "data": {
      "image/png": "[encoded data removed]",
      "text/plain": [
       "<Figure size 640x480 with 1 Axes>"
      ]
     },
     "metadata": {},
     "output_type": "display_data"
    }
   ],
   "source": [
    "from sklearn.linear_model import LinearRegression\n",
    "from sklearn.metrics import mean_absolute_error\n",
    "from sklearn.metrics import r2_score\n",
    "\n",
    "# Initializing the Linear Regression\n",
    "linreg=LinearRegression()\n",
    "\n",
    "# Training the model on the training set\n",
    "linreg.fit(X_train_scaled,y_train)\n",
    "\n",
    "# Making predictions on the testing set\n",
    "y_pred=linreg.predict(X_test_scaled)\n",
    "\n",
    "# Evaluating the model\n",
    "mae=mean_absolute_error(y_test,y_pred)\n",
    "score=r2_score(y_test,y_pred)\n",
    "\n",
    "print(\"Mean absolute error\", mae)\n",
    "print(\"R2 Score\", score)\n",
    "\n",
    "plt.scatter(y_test,y_pred)"
   ]
  },
  {
   "cell_type": "markdown",
   "id": "2cf412f3-ec0b-4698-9729-29c6cd0053b5",
   "metadata": {},
   "source": [
    "###"
   ]
  },
  {
   "cell_type": "markdown",
   "id": "048fdd2d-5fa1-4bbf-ac89-9ecd3f759b37",
   "metadata": {},
   "source": [
    "- ### Lasso Regression"
   ]
  },
  {
   "cell_type": "code",
   "execution_count": 45,
   "id": "890976f7-9adb-455a-bc17-4137e65a6d28",
   "metadata": {},
   "outputs": [
    {
     "name": "stdout",
     "output_type": "stream",
     "text": [
      "Mean absolute error 6.178417989529489\n",
      "R2 Score 0.2964240704555088\n"
     ]
    },
    {
     "data": {
      "text/plain": [
       "<matplotlib.collections.PathCollection at 0x7ff8fafe7af0>"
      ]
     },
     "execution_count": 45,
     "metadata": {},
     "output_type": "execute_result"
    },
    {
     "data": {
      "image/png": "[encoded data removed]",
      "text/plain": [
       "<Figure size 640x480 with 1 Axes>"
      ]
     },
     "metadata": {},
     "output_type": "display_data"
    }
   ],
   "source": [
    "from sklearn.linear_model import Lasso\n",
    "\n",
    "# Initializing the Lasso\n",
    "lasso=Lasso()\n",
    "\n",
    "# Training the model on the training set\n",
    "lasso.fit(X_train_scaled,y_train)\n",
    "y_pred=lasso.predict(X_test_scaled)\n",
    "\n",
    "# Making predictions on the testing set\n",
    "mae=mean_absolute_error(y_test,y_pred)\n",
    "\n",
    "# Evaluating the model\n",
    "score=r2_score(y_test,y_pred)\n",
    "\n",
    "print(\"Mean absolute error\", mae)\n",
    "print(\"R2 Score\", score)\n",
    "\n",
    "plt.scatter(y_test,y_pred)\n"
   ]
  },
  {
   "cell_type": "markdown",
   "id": "cff35df9-8a4e-405a-a054-7312826b2330",
   "metadata": {},
   "source": [
    "###"
   ]
  },
  {
   "cell_type": "markdown",
   "id": "e120de46-7293-4ce3-9c82-5706622f10af",
   "metadata": {},
   "source": [
    "- ### KNN"
   ]
  },
  {
   "cell_type": "code",
   "execution_count": 46,
   "id": "f28bf9eb-14dc-40f9-a152-2d5715885116",
   "metadata": {},
   "outputs": [
    {
     "name": "stdout",
     "output_type": "stream",
     "text": [
      "Mean absolute error 4.54661581920904\n",
      "R2 Score 0.5249712418207704\n"
     ]
    },
    {
     "data": {
      "text/plain": [
       "<matplotlib.collections.PathCollection at 0x7ff8f8bf1300>"
      ]
     },
     "execution_count": 46,
     "metadata": {},
     "output_type": "execute_result"
    },
    {
     "data": {
      "image/png": "[encoded data removed]",
      "text/plain": [
       "<Figure size 640x480 with 1 Axes>"
      ]
     },
     "metadata": {},
     "output_type": "display_data"
    }
   ],
   "source": [
    "from sklearn.neighbors import KNeighborsRegressor\n",
    "\n",
    "# Initializing the KNN regressor\n",
    "knn_regressor = KNeighborsRegressor(n_neighbors=3)  # adjusting the number of neighbors to 3\n",
    "\n",
    "# Training the model on the training set\n",
    "knn_regressor.fit(X_train_scaled, y_train)\n",
    "\n",
    "# Making predictions on the testing set\n",
    "y_pred = knn_regressor.predict(X_test_scaled)\n",
    "\n",
    "# Evaluating the model\n",
    "mae=mean_absolute_error(y_test,y_pred)\n",
    "score=r2_score(y_test,y_pred)\n",
    "\n",
    "print(\"Mean absolute error\", mae)\n",
    "print(\"R2 Score\", score)\n",
    "\n",
    "plt.scatter(y_test,y_pred)\n"
   ]
  },
  {
   "cell_type": "markdown",
   "id": "3191c544-cd49-4b64-a779-759a74e2bd9a",
   "metadata": {},
   "source": [
    "###"
   ]
  },
  {
   "cell_type": "markdown",
   "id": "c096781a-03a6-4bb1-8f5c-335657021fef",
   "metadata": {},
   "source": [
    "- ### AdaBoost"
   ]
  },
  {
   "cell_type": "code",
   "execution_count": 47,
   "id": "35ed2673-fdb0-479f-a726-c5fd83509cff",
   "metadata": {},
   "outputs": [
    {
     "name": "stdout",
     "output_type": "stream",
     "text": [
      "Mean absolute error 6.2400199161950525\n",
      "R2 Score 0.44098090692481084\n"
     ]
    },
    {
     "data": {
      "text/plain": [
       "<matplotlib.collections.PathCollection at 0x7ff8f87d9420>"
      ]
     },
     "execution_count": 47,
     "metadata": {},
     "output_type": "execute_result"
    },
    {
     "data": {
      "image/png": "[encoded data removed]",
      "text/plain": [
       "<Figure size 640x480 with 1 Axes>"
      ]
     },
     "metadata": {},
     "output_type": "display_data"
    }
   ],
   "source": [
    "from sklearn.ensemble import AdaBoostRegressor\n",
    "from sklearn.tree import DecisionTreeRegressor\n",
    "\n",
    "# Initializing a base regressor (e.g., Decision Tree Regressor)\n",
    "base_regressor = DecisionTreeRegressor(max_depth=1) # adjusting Weak learner, as needed\n",
    "\n",
    "# Initializing the AdaBoost regressor\n",
    "adaboost_regressor = AdaBoostRegressor(base_regressor, n_estimators=50, random_state=42)\n",
    "\n",
    "# Train the model on the training set\n",
    "adaboost_regressor.fit(X_train_scaled, y_train)\n",
    "\n",
    "# Make predictions on the testing set\n",
    "y_pred = adaboost_regressor.predict(X_test_scaled)\n",
    "\n",
    "# Evaluating the model\n",
    "mae=mean_absolute_error(y_test,y_pred)\n",
    "score=r2_score(y_test,y_pred)\n",
    "\n",
    "print(\"Mean absolute error\", mae)\n",
    "print(\"R2 Score\", score)\n",
    "\n",
    "plt.scatter(y_test,y_pred)\n"
   ]
  },
  {
   "cell_type": "markdown",
   "id": "60c60ff6-0c09-4f9d-ac9e-157855ce4905",
   "metadata": {},
   "source": [
    "##"
   ]
  },
  {
   "cell_type": "markdown",
   "id": "567283e9-1112-4d3e-814b-02fb187f96aa",
   "metadata": {},
   "source": [
    "- ### Random Forest Regression"
   ]
  },
  {
   "cell_type": "code",
   "execution_count": 48,
   "id": "d4212edb-6774-463a-82a7-e453b35c567d",
   "metadata": {},
   "outputs": [
    {
     "name": "stdout",
     "output_type": "stream",
     "text": [
      "Mean absolute error 3.6500643724778055\n",
      "R2 Score 0.7158724104767629\n"
     ]
    },
    {
     "data": {
      "text/plain": [
       "<matplotlib.collections.PathCollection at 0x7ff8f8878700>"
      ]
     },
     "execution_count": 48,
     "metadata": {},
     "output_type": "execute_result"
    },
    {
     "data": {
      "image/png": "[encoded data removed]",
      "text/plain": [
       "<Figure size 640x480 with 1 Axes>"
      ]
     },
     "metadata": {},
     "output_type": "display_data"
    }
   ],
   "source": [
    "from sklearn.ensemble import RandomForestRegressor\n",
    "\n",
    "# Initializing the Random Forest Regressor\n",
    "rf = RandomForestRegressor(n_estimators=100, random_state=42)\n",
    "\n",
    "# Training the model on the training set\n",
    "rf.fit(X_train_scaled, y_train)\n",
    "\n",
    "# Making predictions on the testing set\n",
    "y_pred = rf.predict(X_test_scaled)\n",
    "\n",
    "# Evaluating the model\n",
    "mae=mean_absolute_error(y_test,y_pred)\n",
    "score=r2_score(y_test,y_pred)\n",
    "\n",
    "print(\"Mean absolute error\", mae)\n",
    "print(\"R2 Score\", score)\n",
    "\n",
    "plt.scatter(y_test,y_pred)"
   ]
  },
  {
   "cell_type": "markdown",
   "id": "f4f63f8e-37c9-4f3b-ab08-b8e4c6f26147",
   "metadata": {},
   "source": [
    "#### Selecting \"Random Forest Regressor\" for ML model, as it performed well out of all"
   ]
  },
  {
   "cell_type": "markdown",
   "id": "18177ed7-2cbd-4148-8a7d-89db55ef0e89",
   "metadata": {},
   "source": [
    "## Creating ML Model using Random Forest Regressor"
   ]
  },
  {
   "cell_type": "code",
   "execution_count": 49,
   "id": "ca73cd79-d963-4d66-b03e-3fba0883c729",
   "metadata": {},
   "outputs": [],
   "source": [
    "from sklearn.ensemble import RandomForestRegressor\n",
    "\n",
    "# Initializing the Random Forest Regressor\n",
    "rf = RandomForestRegressor(n_estimators=100, random_state=42)\n",
    "\n",
    "# Training the model on the training set\n",
    "rf.fit(X_train_scaled, y_train)\n",
    "\n",
    "# Making predictions on the testing set\n",
    "y_pred = rf.predict(X_test_scaled)\n"
   ]
  },
  {
   "cell_type": "markdown",
   "id": "0b2a922d-99ad-4e45-9193-813f57a4afd5",
   "metadata": {},
   "source": [
    "## Plotting"
   ]
  },
  {
   "cell_type": "code",
   "execution_count": 50,
   "id": "82e93cfc-eb87-49c9-817d-c9a8e06dc820",
   "metadata": {},
   "outputs": [
    {
     "data": {
      "text/plain": [
       "<matplotlib.collections.PathCollection at 0x7ff8f86b77f0>"
      ]
     },
     "execution_count": 50,
     "metadata": {},
     "output_type": "execute_result"
    },
    {
     "data": {
      "image/png": "[encoded data removed]",
      "text/plain": [
       "<Figure size 640x480 with 1 Axes>"
      ]
     },
     "metadata": {},
     "output_type": "display_data"
    }
   ],
   "source": [
    "plt.scatter(y_test,y_pred)"
   ]
  },
  {
   "cell_type": "markdown",
   "id": "4e21f038-cdc0-4069-afa1-6e97b3f4dce3",
   "metadata": {},
   "source": [
    "## Evaluating the model"
   ]
  },
  {
   "cell_type": "code",
   "execution_count": 51,
   "id": "d8f30bbe-bf24-42e1-af3a-f736f0f91f36",
   "metadata": {},
   "outputs": [],
   "source": [
    "mae=mean_absolute_error(y_test,y_pred)\n",
    "score=r2_score(y_test,y_pred)"
   ]
  },
  {
   "cell_type": "code",
   "execution_count": 52,
   "id": "f8de3abc-b0ec-4940-9a6a-993a1a727171",
   "metadata": {},
   "outputs": [
    {
     "name": "stdout",
     "output_type": "stream",
     "text": [
      "Mean absolute error 3.6500643724778055\n",
      "R2 Score 0.7158724104767629\n"
     ]
    }
   ],
   "source": [
    "print(\"Mean absolute error\", mae)\n",
    "print(\"R2 Score\", score)"
   ]
  }
 ],
 "metadata": {
  "kernelspec": {
   "display_name": "Python 3 (ipykernel)",
   "language": "python",
   "name": "python3"
  },
  "language_info": {
   "codemirror_mode": {
    "name": "ipython",
    "version": 3
   },
   "file_extension": ".py",
   "mimetype": "text/x-python",
   "name": "python",
   "nbconvert_exporter": "python",
   "pygments_lexer": "ipython3",
   "version": "3.10.12"
  }
 },
 "nbformat": 4,
 "nbformat_minor": 5
}
